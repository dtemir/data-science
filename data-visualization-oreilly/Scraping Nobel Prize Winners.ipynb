{
 "cells": [
  {
   "cell_type": "markdown",
   "metadata": {},
   "source": [
    "# Scraping Nobel Prize Wikipedia Page with BeautifulSoup\n",
    "We are using BeautifulSoup to *scrape* the [Nobel Prize Winners Wikipedia Page](https://en.wikipedia.org/wiki/List_of_Nobel_laureates)"
   ]
  },
  {
   "cell_type": "code",
   "execution_count": 5,
   "metadata": {},
   "outputs": [
    {
     "name": "stdout",
     "output_type": "stream",
     "text": [
      "Requirement already satisfied: beautifulsoup4 in /home/dtemi2/anaconda3/envs/ds/lib/python3.7/site-packages (4.9.3)\n",
      "Requirement already satisfied: soupsieve>1.2 in /home/dtemi2/anaconda3/envs/ds/lib/python3.7/site-packages (from beautifulsoup4) (2.1)\n",
      "Requirement already satisfied: requests-cache in /home/dtemi2/anaconda3/envs/ds/lib/python3.7/site-packages (0.5.2)\n",
      "Requirement already satisfied: requests>=1.1.0 in /home/dtemi2/anaconda3/envs/ds/lib/python3.7/site-packages (from requests-cache) (2.25.1)\n",
      "Requirement already satisfied: urllib3<1.27,>=1.21.1 in /home/dtemi2/anaconda3/envs/ds/lib/python3.7/site-packages (from requests>=1.1.0->requests-cache) (1.26.2)\n",
      "Requirement already satisfied: certifi>=2017.4.17 in /home/dtemi2/anaconda3/envs/ds/lib/python3.7/site-packages (from requests>=1.1.0->requests-cache) (2020.12.5)\n",
      "Requirement already satisfied: chardet<5,>=3.0.2 in /home/dtemi2/anaconda3/envs/ds/lib/python3.7/site-packages (from requests>=1.1.0->requests-cache) (4.0.0)\n",
      "Requirement already satisfied: idna<3,>=2.5 in /home/dtemi2/anaconda3/envs/ds/lib/python3.7/site-packages (from requests>=1.1.0->requests-cache) (2.10)\n"
     ]
    }
   ],
   "source": [
    "# install necessary libraries if absent\n",
    "!pip install beautifulsoup4\n",
    "!pip install --upgrade requests-cache"
   ]
  },
  {
   "cell_type": "code",
   "execution_count": 7,
   "metadata": {},
   "outputs": [],
   "source": [
    "from bs4 import BeautifulSoup\n",
    "import requests\n",
    "import requests_cache\n",
    "\n",
    "# Set cache for two hours\n",
    "requests_cache.install_cache('nobel_pages', backend='sqlite', expire_after=7200)"
   ]
  },
  {
   "cell_type": "code",
   "execution_count": 8,
   "metadata": {},
   "outputs": [],
   "source": [
    "BASE_URL = 'http://en.wikipedia.org'\n",
    "HEADERS = {'User-Agent': 'Mozilla/5.0'}"
   ]
  },
  {
   "cell_type": "code",
   "execution_count": 9,
   "metadata": {},
   "outputs": [],
   "source": [
    "def get_Nobel_soup():\n",
    "    \"\"\"Get the BeautifulSoup Tree Hierarchy of the Webpage\"\"\"\n",
    "    response = requests.get(BASE_URL + '/wiki/List_of_Nobel_laureates', headers=HEADERS)\n",
    "    return BeautifulSoup(response.content, 'lxml')"
   ]
  },
  {
   "cell_type": "code",
   "execution_count": 10,
   "metadata": {},
   "outputs": [],
   "source": [
    "soup = get_Nobel_soup()"
   ]
  },
  {
   "cell_type": "code",
   "execution_count": 11,
   "metadata": {},
   "outputs": [],
   "source": [
    "table = soup.select_one('table.sortable.wikitable') # Select the table with the data"
   ]
  },
  {
   "cell_type": "code",
   "execution_count": 12,
   "metadata": {},
   "outputs": [],
   "source": [
    "def get_column_titles(table):\n",
    "    \"\"\"Get the Nobel Categories from the table header\"\"\"\n",
    "    cols = []\n",
    "    for th in table.select_one('tr').select('th')[1:]: # Avoid the first column with the Year\n",
    "        link = th.select_one('a')\n",
    "        if link:\n",
    "            cols.append({'name': link.text,\n",
    "                        'href': link.attrs['href']})\n",
    "        else:\n",
    "            cols.append({'name': th.text, 'href': None})\n",
    "    return cols"
   ]
  },
  {
   "cell_type": "code",
   "execution_count": 13,
   "metadata": {},
   "outputs": [
    {
     "data": {
      "text/plain": [
       "[{'name': 'Physics', 'href': '/wiki/List_of_Nobel_laureates_in_Physics'},\n",
       " {'name': 'Chemistry', 'href': '/wiki/List_of_Nobel_laureates_in_Chemistry'},\n",
       " {'name': 'Physiologyor Medicine',\n",
       "  'href': '/wiki/List_of_Nobel_laureates_in_Physiology_or_Medicine'},\n",
       " {'name': 'Literature', 'href': '/wiki/List_of_Nobel_laureates_in_Literature'},\n",
       " {'name': 'Peace', 'href': '/wiki/List_of_Nobel_Peace_Prize_laureates'},\n",
       " {'name': 'Economics', 'href': '/wiki/List_of_Nobel_laureates_in_Economics'}]"
      ]
     },
     "execution_count": 13,
     "metadata": {},
     "output_type": "execute_result"
    }
   ],
   "source": [
    "get_column_titles(table)"
   ]
  },
  {
   "cell_type": "code",
   "execution_count": 14,
   "metadata": {},
   "outputs": [],
   "source": [
    "def get_Nobel_winners(table):\n",
    "    \"\"\"Get the Nobel Winners\"\"\"\n",
    "    cols = get_column_titles(table)\n",
    "    winners = []\n",
    "    for row in table.select('tr')[1:-1]:\n",
    "        year = int(row.select_one('td').text) # Get 1st <td>\n",
    "        for i, td in enumerate(row.select('td')[1:]):\n",
    "            for winner in td.select('a'):\n",
    "                href = winner.attrs['href']\n",
    "                if not href.startswith('#endnote'):\n",
    "                  winners.append({\n",
    "                      'year': year,\n",
    "                      'category': cols[i]['name'],\n",
    "                      'name': winner.text,\n",
    "                      'link': winner.attrs['href']\n",
    "                  })\n",
    "    return winners"
   ]
  },
  {
   "cell_type": "code",
   "execution_count": 33,
   "metadata": {},
   "outputs": [],
   "source": [
    "winners = get_Nobel_winners(table)"
   ]
  },
  {
   "cell_type": "code",
   "execution_count": 34,
   "metadata": {},
   "outputs": [],
   "source": [
    "def get_winner_nationality(winner):\n",
    "    \"\"\"Scapre biographic data from the winner's wikipedia page\"\"\"\n",
    "    data = requests.get(BASE_URL + winner['link'], headers=HEADERS)\n",
    "    soup = BeautifulSoup(data.content, 'lxml')\n",
    "    person_data = {'name': winner['name']}\n",
    "    attr_rows = soup.select('table.infobox tr')\n",
    "    for tr in attr_rows:\n",
    "        try:\n",
    "            attribute = tr.select_one('th').text\n",
    "            if attribute == 'Nationality':\n",
    "                person_data[attribute] = tr.select_one('td').text\n",
    "        except AttributeError:\n",
    "            pass\n",
    "    return person_data"
   ]
  },
  {
   "cell_type": "code",
   "execution_count": 35,
   "metadata": {},
   "outputs": [
    {
     "data": {
      "text/plain": [
       "[{'name': 'Wilhelm Röntgen', 'Nationality': 'German[1]'},\n",
       " {'name': \"Jacobus Henricus van 't Hoff\", 'Nationality': 'Dutch'},\n",
       " {'name': 'Emil Adolf von Behring', 'Nationality': 'German'},\n",
       " {'name': 'Sully Prudhomme', 'Nationality': 'French'},\n",
       " {'name': 'Henry Dunant', 'Nationality': 'Swiss'},\n",
       " {'name': 'Frédéric Passy', 'Nationality': 'French'},\n",
       " {'name': 'Hendrik Lorentz', 'Nationality': 'Dutch'},\n",
       " {'name': 'Pieter Zeeman', 'Nationality': 'Netherlands'},\n",
       " {'name': 'Hermann Emil Fischer', 'Nationality': 'Germany'},\n",
       " {'name': 'Ronald Ross', 'Nationality': 'British'},\n",
       " {'name': 'Theodor Mommsen', 'Nationality': 'German'},\n",
       " {'name': 'Élie Ducommun'},\n",
       " {'name': 'Charles Albert Gobat'},\n",
       " {'name': 'Henri Becquerel', 'Nationality': 'French'},\n",
       " {'name': 'Pierre Curie'},\n",
       " {'name': 'Marie Curie'},\n",
       " {'name': 'Svante Arrhenius', 'Nationality': 'Swedish'},\n",
       " {'name': 'Niels Ryberg Finsen'},\n",
       " {'name': 'Bjørnstjerne Bjørnson', 'Nationality': 'Norwegian'},\n",
       " {'name': 'Randal Cremer', 'Nationality': 'British'},\n",
       " {'name': 'Lord Rayleigh', 'Nationality': 'English'},\n",
       " {'name': 'William Ramsay', 'Nationality': 'Scottish'},\n",
       " {'name': 'Ivan Pavlov'},\n",
       " {'name': 'Frédéric Mistral', 'Nationality': 'France'},\n",
       " {'name': 'José Echegaray', 'Nationality': 'Spanish'},\n",
       " {'name': 'Institut de Droit International'},\n",
       " {'name': 'Philipp Lenard'},\n",
       " {'name': 'Adolf von Baeyer', 'Nationality': 'Germany'},\n",
       " {'name': 'Robert Koch', 'Nationality': 'German'},\n",
       " {'name': 'Henryk Sienkiewicz', 'Nationality': 'Polish'},\n",
       " {'name': 'Bertha von Suttner'},\n",
       " {'name': 'J. J. Thomson', 'Nationality': 'English'},\n",
       " {'name': 'Henri Moissan', 'Nationality': 'France'},\n",
       " {'name': 'Camillo Golgi', 'Nationality': 'Italian'},\n",
       " {'name': 'Santiago Ramón y Cajal'},\n",
       " {'name': 'Giosuè Carducci', 'Nationality': 'Italian'},\n",
       " {'name': 'Theodore Roosevelt'},\n",
       " {'name': 'Albert Abraham Michelson', 'Nationality': 'American'},\n",
       " {'name': 'Eduard Buchner', 'Nationality': 'Germany'},\n",
       " {'name': 'Charles Louis Alphonse Laveran', 'Nationality': 'France'},\n",
       " {'name': 'Rudyard Kipling', 'Nationality': 'British'},\n",
       " {'name': 'Ernesto Teodoro Moneta'},\n",
       " {'name': 'Louis Renault'},\n",
       " {'name': 'Gabriel Lippmann', 'Nationality': 'France'},\n",
       " {'name': 'Ernest Rutherford', 'Nationality': 'New Zealander'},\n",
       " {'name': 'Élie Metchnikoff', 'Nationality': 'Russian'},\n",
       " {'name': 'Paul Ehrlich'},\n",
       " {'name': 'Rudolf Christoph Eucken'},\n",
       " {'name': 'Klas Pontus Arnoldson'},\n",
       " {'name': 'Fredrik Bajer', 'Nationality': 'Danish'}]"
      ]
     },
     "execution_count": 35,
     "metadata": {},
     "output_type": "execute_result"
    }
   ],
   "source": [
    "winner_data = []\n",
    "# test first 50 winners\n",
    "for winner in winners[:50]:\n",
    "    winner_data.append(get_winner_nationality(winner))\n",
    "missing_nationality = []\n",
    "for winner in winner_data:\n",
    "    # if mising 'Nationality,' add to list\n",
    "    if not winner.get('Nationality'):\n",
    "        missing_nationality.append(winner)\n",
    "winner_data"
   ]
  },
  {
   "cell_type": "code",
   "execution_count": 36,
   "metadata": {},
   "outputs": [
    {
     "data": {
      "text/plain": [
       "[{'name': 'Élie Ducommun'},\n",
       " {'name': 'Charles Albert Gobat'},\n",
       " {'name': 'Pierre Curie'},\n",
       " {'name': 'Marie Curie'},\n",
       " {'name': 'Niels Ryberg Finsen'},\n",
       " {'name': 'Ivan Pavlov'},\n",
       " {'name': 'Institut de Droit International'},\n",
       " {'name': 'Philipp Lenard'},\n",
       " {'name': 'Bertha von Suttner'},\n",
       " {'name': 'Santiago Ramón y Cajal'},\n",
       " {'name': 'Theodore Roosevelt'},\n",
       " {'name': 'Ernesto Teodoro Moneta'},\n",
       " {'name': 'Louis Renault'},\n",
       " {'name': 'Paul Ehrlich'},\n",
       " {'name': 'Rudolf Christoph Eucken'},\n",
       " {'name': 'Klas Pontus Arnoldson'}]"
      ]
     },
     "execution_count": 36,
     "metadata": {},
     "output_type": "execute_result"
    }
   ],
   "source": [
    "missing_nationality"
   ]
  },
  {
   "cell_type": "code",
   "execution_count": null,
   "metadata": {},
   "outputs": [],
   "source": []
  }
 ],
 "metadata": {
  "kernelspec": {
   "display_name": "Python 3",
   "language": "python",
   "name": "python3"
  },
  "language_info": {
   "codemirror_mode": {
    "name": "ipython",
    "version": 3
   },
   "file_extension": ".py",
   "mimetype": "text/x-python",
   "name": "python",
   "nbconvert_exporter": "python",
   "pygments_lexer": "ipython3",
   "version": "3.7.9"
  }
 },
 "nbformat": 4,
 "nbformat_minor": 4
}
